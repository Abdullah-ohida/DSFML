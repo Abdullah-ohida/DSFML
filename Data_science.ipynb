{
 "nbformat": 4,
 "nbformat_minor": 0,
 "metadata": {
  "colab": {
   "name": "Data_science.ipynb",
   "provenance": [],
   "authorship_tag": "ABX9TyNqO3R7s70EJkpzJ9kfY6XG"
  },
  "kernelspec": {
   "name": "python3",
   "display_name": "Python 3"
  }
 },
 "cells": [
  {
   "cell_type": "code",
   "metadata": {
    "colab": {
     "base_uri": "https://localhost:8080/"
    },
    "id": "MVU9uPDpecPL",
    "executionInfo": {
     "status": "ok",
     "timestamp": 1614885719687,
     "user_tz": -60,
     "elapsed": 1058,
     "user": {
      "displayName": "WhaleWalker",
      "photoUrl": "https://lh3.googleusercontent.com/a-/AOh14GhSXJW3yb-w727otfzCliZxt95ibPY1YqWIK6nmPw=s64",
      "userId": "16749580034792052619"
     }
    },
    "outputId": "794239ec-e368-4053-b791-8b2819bd26ef"
   },
   "source": [
    "def contain_vowel(string: str):\n",
    "  vowels = ('a', 'e', 'i', 'o', 'u')\n",
    "  for character in string:\n",
    "    if str(character).lower() in vowels:\n",
    "      return True\n",
    "\n",
    "  return False\n",
    "\n",
    "contain_vowel(\"Sky\")\n"
   ],
   "execution_count": 28,
   "outputs": [
    {
     "output_type": "execute_result",
     "data": {
      "text/plain": [
       "False"
      ]
     },
     "metadata": {
      "tags": []
     },
     "execution_count": 28
    }
   ]
  },
  {
   "cell_type": "code",
   "metadata": {
    "colab": {
     "base_uri": "https://localhost:8080/"
    },
    "id": "rFZXHn_crpEz",
    "executionInfo": {
     "status": "ok",
     "timestamp": 1614885719688,
     "user_tz": -60,
     "elapsed": 1055,
     "user": {
      "displayName": "WhaleWalker",
      "photoUrl": "https://lh3.googleusercontent.com/a-/AOh14GhSXJW3yb-w727otfzCliZxt95ibPY1YqWIK6nmPw=s64",
      "userId": "16749580034792052619"
     }
    },
    "outputId": "afbe905f-60a6-47af-a908-ed2cd53d51b7"
   },
   "source": [
    "def is_even(number):\n",
    "  return number % 2 == 0\n",
    "\n",
    "is_even(6)\n"
   ],
   "execution_count": 29,
   "outputs": [
    {
     "output_type": "execute_result",
     "data": {
      "text/plain": [
       "True"
      ]
     },
     "metadata": {
      "tags": []
     },
     "execution_count": 29
    }
   ]
  },
  {
   "cell_type": "code",
   "metadata": {
    "colab": {
     "base_uri": "https://localhost:8080/"
    },
    "id": "zO3jR-SCrmyO",
    "executionInfo": {
     "status": "ok",
     "timestamp": 1614885719689,
     "user_tz": -60,
     "elapsed": 1053,
     "user": {
      "displayName": "WhaleWalker",
      "photoUrl": "https://lh3.googleusercontent.com/a-/AOh14GhSXJW3yb-w727otfzCliZxt95ibPY1YqWIK6nmPw=s64",
      "userId": "16749580034792052619"
     }
    },
    "outputId": "5dc60dcb-2245-4aff-8406-029a9e8a4ddb"
   },
   "source": [
    "def is_prime(number):\n",
    "  if number == 1:\n",
    "    return False\n",
    "  for value in range(2, number):\n",
    "    if number % value == 0:\n",
    "      return False\n",
    "  return True\n",
    "\n",
    "is_prime(9)"
   ],
   "execution_count": 30,
   "outputs": [
    {
     "output_type": "execute_result",
     "data": {
      "text/plain": [
       "False"
      ]
     },
     "metadata": {
      "tags": []
     },
     "execution_count": 30
    }
   ]
  },
  {
   "cell_type": "code",
   "metadata": {
    "colab": {
     "base_uri": "https://localhost:8080/"
    },
    "id": "OgGbQ97trVbi",
    "executionInfo": {
     "status": "ok",
     "timestamp": 1614885719690,
     "user_tz": -60,
     "elapsed": 1046,
     "user": {
      "displayName": "WhaleWalker",
      "photoUrl": "https://lh3.googleusercontent.com/a-/AOh14GhSXJW3yb-w727otfzCliZxt95ibPY1YqWIK6nmPw=s64",
      "userId": "16749580034792052619"
     }
    },
    "outputId": "c1a461f9-2d40-4bd7-ef13-0a9eed94a1f9"
   },
   "source": [
    "def sort_even_odd_prime(list_of_integer):\n",
    "  even_number = []\n",
    "  odd_number = []\n",
    "  prime_number = []\n",
    "\n",
    "  for integer in list_of_integer:\n",
    "    if is_even(integer):\n",
    "      even_number.append(integer)\n",
    "    elif is_prime(integer):\n",
    "      prime_number.append(integer)\n",
    "    else:\n",
    "      odd_number.append(integer)\n",
    "    \n",
    "  even_number.sort()\n",
    "  prime_number.sort()\n",
    "  odd_number.sort()\n",
    "\n",
    "  return tuple(even_number + odd_number + prime_number)\n",
    "  \n",
    "sort_even_odd_prime([2, 43, 5, 7,8, 2, 3, 5, 6, 8, 6, 3, 5])"
   ],
   "execution_count": 31,
   "outputs": [
    {
     "output_type": "execute_result",
     "data": {
      "text/plain": [
       "(2, 2, 6, 6, 8, 8, 3, 3, 5, 5, 5, 7, 43)"
      ]
     },
     "metadata": {
      "tags": []
     },
     "execution_count": 31
    }
   ]
  },
  {
   "cell_type": "code",
   "metadata": {
    "id": "hCpSo52Mrs8T",
    "executionInfo": {
     "status": "ok",
     "timestamp": 1614885719691,
     "user_tz": -60,
     "elapsed": 1044,
     "user": {
      "displayName": "WhaleWalker",
      "photoUrl": "https://lh3.googleusercontent.com/a-/AOh14GhSXJW3yb-w727otfzCliZxt95ibPY1YqWIK6nmPw=s64",
      "userId": "16749580034792052619"
     }
    }
   },
   "source": [
    ""
   ],
   "execution_count": 31,
   "outputs": []
  },
  {
   "cell_type": "markdown",
   "metadata": {
    "id": "BdPWY6oHhNVE"
   },
   "source": [
    ""
   ]
  },
  {
   "cell_type": "markdown",
   "metadata": {
    "id": "77Hwf-UshMdM"
   },
   "source": [
    ""
   ]
  }
 ]
}